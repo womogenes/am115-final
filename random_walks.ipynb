{
 "cells": [
  {
   "cell_type": "code",
   "execution_count": 1,
   "metadata": {},
   "outputs": [],
   "source": [
    "import random\n",
    "import os\n",
    "import numpy as np\n",
    "\n",
    "import json\n",
    "import pickle\n",
    "import geopandas as gpd\n",
    "import osmnx as ox\n",
    "\n",
    "from tqdm import tqdm\n",
    "\n",
    "from random_walks import random_walks"
   ]
  },
  {
   "cell_type": "code",
   "execution_count": 2,
   "metadata": {},
   "outputs": [
    {
     "name": "stdout",
     "output_type": "stream",
     "text": [
      "===== [ 0/13] Simulating walks from Harvard =====\n",
      "Doing walks from Harvard...\n",
      "Reading boba locations...\n",
      "Reading network...\n",
      "Reading adjacency list...\n"
     ]
    },
    {
     "name": "stderr",
     "output_type": "stream",
     "text": [
      "100%|█████████████████████████████████████████████████████████████| 100/100 [03:27<00:00,  2.08s/it]\n"
     ]
    },
    {
     "name": "stdout",
     "output_type": "stream",
     "text": [
      "Saving 10,000 walks...\n",
      "\n",
      "===== [ 1/13] Simulating walks from MIT =====\n",
      "Doing walks from MIT...\n",
      "Reading boba locations...\n",
      "Reading network...\n",
      "Reading adjacency list...\n"
     ]
    },
    {
     "name": "stderr",
     "output_type": "stream",
     "text": [
      "100%|█████████████████████████████████████████████████████████████| 100/100 [02:34<00:00,  1.54s/it]\n"
     ]
    },
    {
     "name": "stdout",
     "output_type": "stream",
     "text": [
      "Saving 10,000 walks...\n",
      "\n",
      "===== [ 2/13] Simulating walks from UW Seattle =====\n",
      "Doing walks from UW Seattle...\n",
      "Reading boba locations...\n",
      "Reading network...\n",
      "Reading adjacency list...\n"
     ]
    },
    {
     "name": "stderr",
     "output_type": "stream",
     "text": [
      "100%|█████████████████████████████████████████████████████████████| 100/100 [04:06<00:00,  2.47s/it]\n"
     ]
    },
    {
     "name": "stdout",
     "output_type": "stream",
     "text": [
      "Saving 10,000 walks...\n",
      "\n",
      "===== [ 3/13] Simulating walks from University of Chicago =====\n",
      "Doing walks from University of Chicago...\n",
      "Reading boba locations...\n",
      "Reading network...\n",
      "Reading adjacency list...\n"
     ]
    },
    {
     "name": "stderr",
     "output_type": "stream",
     "text": [
      "100%|█████████████████████████████████████████████████████████████| 100/100 [00:45<00:00,  2.19it/s]\n"
     ]
    },
    {
     "name": "stdout",
     "output_type": "stream",
     "text": [
      "Saving 10,000 walks...\n",
      "\n",
      "===== [ 4/13] Simulating walks from Dartmouth University =====\n",
      "Doing walks from Dartmouth University...\n",
      "Reading boba locations...\n",
      "Reading network...\n",
      "Reading adjacency list...\n"
     ]
    },
    {
     "name": "stderr",
     "output_type": "stream",
     "text": [
      "100%|███████████████████████████████████████████████████████████| 100/100 [00:00<00:00, 3617.74it/s]\n"
     ]
    },
    {
     "name": "stdout",
     "output_type": "stream",
     "text": [
      "Saving 10,000 walks...\n",
      "\n",
      "===== [ 5/13] Simulating walks from Boston University =====\n",
      "Doing walks from Boston University...\n",
      "Reading boba locations...\n",
      "Reading network...\n",
      "Reading adjacency list...\n"
     ]
    },
    {
     "name": "stderr",
     "output_type": "stream",
     "text": [
      "100%|█████████████████████████████████████████████████████████████| 100/100 [02:08<00:00,  1.29s/it]\n"
     ]
    },
    {
     "name": "stdout",
     "output_type": "stream",
     "text": [
      "Saving 10,000 walks...\n",
      "\n",
      "===== [ 6/13] Simulating walks from Princeton University =====\n",
      "Doing walks from Princeton University...\n",
      "Reading boba locations...\n",
      "Reading network...\n",
      "Reading adjacency list...\n"
     ]
    },
    {
     "name": "stderr",
     "output_type": "stream",
     "text": [
      "100%|█████████████████████████████████████████████████████████████| 100/100 [03:58<00:00,  2.39s/it]\n"
     ]
    },
    {
     "name": "stdout",
     "output_type": "stream",
     "text": [
      "Saving 10,000 walks...\n",
      "\n",
      "===== [ 7/13] Simulating walks from Stanford University =====\n",
      "Doing walks from Stanford University...\n",
      "Reading boba locations...\n",
      "Reading network...\n",
      "Reading adjacency list...\n"
     ]
    },
    {
     "name": "stderr",
     "output_type": "stream",
     "text": [
      "100%|█████████████████████████████████████████████████████████████| 100/100 [03:17<00:00,  1.97s/it]\n"
     ]
    },
    {
     "name": "stdout",
     "output_type": "stream",
     "text": [
      "Saving 10,000 walks...\n",
      "\n",
      "===== [ 8/13] Simulating walks from Yale University =====\n",
      "Doing walks from Yale University...\n",
      "Reading boba locations...\n",
      "Reading network...\n",
      "Reading adjacency list...\n"
     ]
    },
    {
     "name": "stderr",
     "output_type": "stream",
     "text": [
      "100%|█████████████████████████████████████████████████████████████| 100/100 [00:05<00:00, 19.36it/s]\n"
     ]
    },
    {
     "name": "stdout",
     "output_type": "stream",
     "text": [
      "Saving 10,000 walks...\n",
      "\n",
      "===== [ 9/13] Simulating walks from Johns Hopkins University =====\n",
      "Doing walks from Johns Hopkins University...\n",
      "Reading boba locations...\n",
      "Reading network...\n",
      "Reading adjacency list...\n"
     ]
    },
    {
     "name": "stderr",
     "output_type": "stream",
     "text": [
      "100%|█████████████████████████████████████████████████████████████| 100/100 [05:32<00:00,  3.33s/it]\n"
     ]
    },
    {
     "name": "stdout",
     "output_type": "stream",
     "text": [
      "Saving 10,000 walks...\n",
      "\n",
      "===== [10/13] Simulating walks from University of Pennsylvania =====\n",
      "Doing walks from University of Pennsylvania...\n",
      "Reading boba locations...\n",
      "Reading network...\n",
      "Reading adjacency list...\n"
     ]
    },
    {
     "name": "stderr",
     "output_type": "stream",
     "text": [
      "100%|█████████████████████████████████████████████████████████████| 100/100 [01:43<00:00,  1.03s/it]\n"
     ]
    },
    {
     "name": "stdout",
     "output_type": "stream",
     "text": [
      "Saving 10,000 walks...\n",
      "\n",
      "===== [11/13] Simulating walks from University of California, Los Angeles =====\n",
      "Doing walks from University of California, Los Angeles...\n",
      "Reading boba locations...\n",
      "Reading network...\n",
      "Reading adjacency list...\n"
     ]
    },
    {
     "name": "stderr",
     "output_type": "stream",
     "text": [
      "100%|█████████████████████████████████████████████████████████████| 100/100 [00:46<00:00,  2.14it/s]\n"
     ]
    },
    {
     "name": "stdout",
     "output_type": "stream",
     "text": [
      "Saving 10,000 walks...\n",
      "\n",
      "===== [12/13] Simulating walks from National Taiwan University =====\n",
      "Doing walks from National Taiwan University...\n",
      "Reading boba locations...\n",
      "Reading network...\n",
      "Reading adjacency list...\n"
     ]
    },
    {
     "name": "stderr",
     "output_type": "stream",
     "text": [
      "100%|█████████████████████████████████████████████████████████████| 100/100 [02:45<00:00,  1.66s/it]"
     ]
    },
    {
     "name": "stdout",
     "output_type": "stream",
     "text": [
      "Saving 10,000 walks...\n",
      "\n"
     ]
    },
    {
     "name": "stderr",
     "output_type": "stream",
     "text": [
      "\n"
     ]
    }
   ],
   "source": [
    "with open(\"./places.json\") as fin:\n",
    "    places = json.load(fin)\n",
    "\n",
    "all_records = {}\n",
    "for i, place in enumerate(places):\n",
    "    placename, coords, slug = place\n",
    "    print(f\"===== [{i:>2}/{len(places)}] Simulating walks from {placename} =====\")\n",
    "\n",
    "    all_records[slug] = random_walks(place, 100, 100, timeout=60*2.5)\n",
    "\n",
    "    print()"
   ]
  }
 ],
 "metadata": {
  "kernelspec": {
   "display_name": "ox",
   "language": "python",
   "name": "python3"
  },
  "language_info": {
   "codemirror_mode": {
    "name": "ipython",
    "version": 3
   },
   "file_extension": ".py",
   "mimetype": "text/x-python",
   "name": "python",
   "nbconvert_exporter": "python",
   "pygments_lexer": "ipython3",
   "version": "3.11.4"
  },
  "orig_nbformat": 4
 },
 "nbformat": 4,
 "nbformat_minor": 2
}
