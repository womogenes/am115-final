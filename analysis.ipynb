{
 "cells": [
  {
   "cell_type": "code",
   "execution_count": null,
   "metadata": {},
   "outputs": [],
   "source": [
    "CITY_NAME = \"Seattle\""
   ]
  },
  {
   "cell_type": "code",
   "execution_count": 1,
   "metadata": {},
   "outputs": [],
   "source": [
    "# Goal: determine which nodes count as \"having boba\"\n",
    "import osmnx as ox\n",
    "import geopandas as gpd\n",
    "import pickle\n",
    "import json\n",
    "import pandas as pd"
   ]
  },
  {
   "cell_type": "markdown",
   "metadata": {},
   "source": [
    "## Read data\n",
    "\n",
    "This shouldn't take longer than ~40 sec."
   ]
  },
  {
   "cell_type": "markdown",
   "metadata": {},
   "source": [
    "### Load graph, separate to nodes and edges"
   ]
  },
  {
   "cell_type": "code",
   "execution_count": 2,
   "metadata": {},
   "outputs": [],
   "source": [
    "# ~15 sec\n",
    "with open(f\"./data/{CITY_NAME.lower()}_networkx_graph.pkl\", \"rb\") as fin:\n",
    "    G = pickle.load(fin)"
   ]
  },
  {
   "cell_type": "code",
   "execution_count": null,
   "metadata": {},
   "outputs": [],
   "source": [
    "# ~1:16\n",
    "ox.plot_graph(G, figsize=(80, 80), node_size=0, edge_linewidth=0.5)"
   ]
  },
  {
   "cell_type": "code",
   "execution_count": 19,
   "metadata": {},
   "outputs": [],
   "source": [
    "fig, ax = _"
   ]
  },
  {
   "cell_type": "code",
   "execution_count": null,
   "metadata": {},
   "outputs": [],
   "source": [
    "ax.plot(47.6062, -122.3321, marker=\"o\")\n",
    "fig"
   ]
  },
  {
   "cell_type": "code",
   "execution_count": 3,
   "metadata": {},
   "outputs": [],
   "source": [
    "# ~70 sec\n",
    "nodes, edges = ox.graph_to_gdfs(G)"
   ]
  },
  {
   "cell_type": "code",
   "execution_count": 15,
   "metadata": {},
   "outputs": [
    {
     "name": "stdout",
     "output_type": "stream",
     "text": [
      "                   y              x   street_count\n",
      "count  115864.000000  115864.000000  115864.000000\n",
      "mean       47.640392    -122.329135       3.101714\n",
      "std         0.049098       0.035311       0.927418\n",
      "min        47.496012    -122.435772       1.000000\n",
      "25%        47.611576    -122.352647       3.000000\n",
      "50%        47.643255    -122.324202       3.000000\n",
      "75%        47.675895    -122.303082       4.000000\n",
      "max        47.734135    -122.237990       8.000000\n"
     ]
    },
    {
     "data": {
      "text/html": [
       "<div>\n",
       "<style scoped>\n",
       "    .dataframe tbody tr th:only-of-type {\n",
       "        vertical-align: middle;\n",
       "    }\n",
       "\n",
       "    .dataframe tbody tr th {\n",
       "        vertical-align: top;\n",
       "    }\n",
       "\n",
       "    .dataframe thead th {\n",
       "        text-align: right;\n",
       "    }\n",
       "</style>\n",
       "<table border=\"1\" class=\"dataframe\">\n",
       "  <thead>\n",
       "    <tr style=\"text-align: right;\">\n",
       "      <th></th>\n",
       "      <th>y</th>\n",
       "      <th>x</th>\n",
       "      <th>highway</th>\n",
       "      <th>street_count</th>\n",
       "      <th>ref</th>\n",
       "      <th>geometry</th>\n",
       "    </tr>\n",
       "    <tr>\n",
       "      <th>osmid</th>\n",
       "      <th></th>\n",
       "      <th></th>\n",
       "      <th></th>\n",
       "      <th></th>\n",
       "      <th></th>\n",
       "      <th></th>\n",
       "    </tr>\n",
       "  </thead>\n",
       "  <tbody>\n",
       "    <tr>\n",
       "      <th>29449863</th>\n",
       "      <td>47.643976</td>\n",
       "      <td>-122.304067</td>\n",
       "      <td>traffic_signals</td>\n",
       "      <td>4</td>\n",
       "      <td>NaN</td>\n",
       "      <td>POINT (-122.30407 47.64398)</td>\n",
       "    </tr>\n",
       "    <tr>\n",
       "      <th>29462909</th>\n",
       "      <td>47.641088</td>\n",
       "      <td>-122.297930</td>\n",
       "      <td>NaN</td>\n",
       "      <td>3</td>\n",
       "      <td>NaN</td>\n",
       "      <td>POINT (-122.29793 47.64109)</td>\n",
       "    </tr>\n",
       "    <tr>\n",
       "      <th>29464223</th>\n",
       "      <td>47.643918</td>\n",
       "      <td>-122.304207</td>\n",
       "      <td>traffic_signals</td>\n",
       "      <td>3</td>\n",
       "      <td>NaN</td>\n",
       "      <td>POINT (-122.30421 47.64392)</td>\n",
       "    </tr>\n",
       "    <tr>\n",
       "      <th>29464742</th>\n",
       "      <td>47.658325</td>\n",
       "      <td>-122.301425</td>\n",
       "      <td>NaN</td>\n",
       "      <td>3</td>\n",
       "      <td>NaN</td>\n",
       "      <td>POINT (-122.30143 47.65832)</td>\n",
       "    </tr>\n",
       "    <tr>\n",
       "      <th>29464746</th>\n",
       "      <td>47.656011</td>\n",
       "      <td>-122.302121</td>\n",
       "      <td>NaN</td>\n",
       "      <td>3</td>\n",
       "      <td>NaN</td>\n",
       "      <td>POINT (-122.30212 47.65601)</td>\n",
       "    </tr>\n",
       "  </tbody>\n",
       "</table>\n",
       "</div>"
      ],
      "text/plain": [
       "                  y           x          highway  street_count  ref  \\\n",
       "osmid                                                                 \n",
       "29449863  47.643976 -122.304067  traffic_signals             4  NaN   \n",
       "29462909  47.641088 -122.297930              NaN             3  NaN   \n",
       "29464223  47.643918 -122.304207  traffic_signals             3  NaN   \n",
       "29464742  47.658325 -122.301425              NaN             3  NaN   \n",
       "29464746  47.656011 -122.302121              NaN             3  NaN   \n",
       "\n",
       "                             geometry  \n",
       "osmid                                  \n",
       "29449863  POINT (-122.30407 47.64398)  \n",
       "29462909  POINT (-122.29793 47.64109)  \n",
       "29464223  POINT (-122.30421 47.64392)  \n",
       "29464742  POINT (-122.30143 47.65832)  \n",
       "29464746  POINT (-122.30212 47.65601)  "
      ]
     },
     "execution_count": 15,
     "metadata": {},
     "output_type": "execute_result"
    }
   ],
   "source": [
    "print(nodes.describe())\n",
    "nodes.head()"
   ]
  },
  {
   "cell_type": "code",
   "execution_count": 17,
   "metadata": {},
   "outputs": [
    {
     "name": "stdout",
     "output_type": "stream",
     "text": [
      "              length\n",
      "count  359218.000000\n",
      "mean       36.091719\n",
      "std        50.317404\n",
      "min         0.032000\n",
      "25%         7.476000\n",
      "50%        14.292000\n",
      "75%        44.701000\n",
      "max      4444.400000\n"
     ]
    },
    {
     "data": {
      "text/html": [
       "<div>\n",
       "<style scoped>\n",
       "    .dataframe tbody tr th:only-of-type {\n",
       "        vertical-align: middle;\n",
       "    }\n",
       "\n",
       "    .dataframe tbody tr th {\n",
       "        vertical-align: top;\n",
       "    }\n",
       "\n",
       "    .dataframe thead th {\n",
       "        text-align: right;\n",
       "    }\n",
       "</style>\n",
       "<table border=\"1\" class=\"dataframe\">\n",
       "  <thead>\n",
       "    <tr style=\"text-align: right;\">\n",
       "      <th></th>\n",
       "      <th></th>\n",
       "      <th></th>\n",
       "      <th>osmid</th>\n",
       "      <th>oneway</th>\n",
       "      <th>lanes</th>\n",
       "      <th>ref</th>\n",
       "      <th>name</th>\n",
       "      <th>highway</th>\n",
       "      <th>maxspeed</th>\n",
       "      <th>junction</th>\n",
       "      <th>reversed</th>\n",
       "      <th>length</th>\n",
       "      <th>bridge</th>\n",
       "      <th>geometry</th>\n",
       "      <th>access</th>\n",
       "      <th>service</th>\n",
       "      <th>width</th>\n",
       "      <th>tunnel</th>\n",
       "    </tr>\n",
       "    <tr>\n",
       "      <th>u</th>\n",
       "      <th>v</th>\n",
       "      <th>key</th>\n",
       "      <th></th>\n",
       "      <th></th>\n",
       "      <th></th>\n",
       "      <th></th>\n",
       "      <th></th>\n",
       "      <th></th>\n",
       "      <th></th>\n",
       "      <th></th>\n",
       "      <th></th>\n",
       "      <th></th>\n",
       "      <th></th>\n",
       "      <th></th>\n",
       "      <th></th>\n",
       "      <th></th>\n",
       "      <th></th>\n",
       "      <th></th>\n",
       "    </tr>\n",
       "  </thead>\n",
       "  <tbody>\n",
       "    <tr>\n",
       "      <th>29449863</th>\n",
       "      <th>3391701883</th>\n",
       "      <th>0</th>\n",
       "      <td>332060236</td>\n",
       "      <td>False</td>\n",
       "      <td>3</td>\n",
       "      <td>WA 513</td>\n",
       "      <td>East Montlake Place East</td>\n",
       "      <td>secondary</td>\n",
       "      <td>25 mph</td>\n",
       "      <td>intersection</td>\n",
       "      <td>True</td>\n",
       "      <td>8.55</td>\n",
       "      <td>NaN</td>\n",
       "      <td>LINESTRING (-122.30407 47.64398, -122.30400 47...</td>\n",
       "      <td>NaN</td>\n",
       "      <td>NaN</td>\n",
       "      <td>NaN</td>\n",
       "      <td>NaN</td>\n",
       "    </tr>\n",
       "  </tbody>\n",
       "</table>\n",
       "</div>"
      ],
      "text/plain": [
       "                             osmid  oneway lanes     ref  \\\n",
       "u        v          key                                    \n",
       "29449863 3391701883 0    332060236   False     3  WA 513   \n",
       "\n",
       "                                             name    highway maxspeed  \\\n",
       "u        v          key                                                 \n",
       "29449863 3391701883 0    East Montlake Place East  secondary   25 mph   \n",
       "\n",
       "                             junction reversed  length bridge  \\\n",
       "u        v          key                                         \n",
       "29449863 3391701883 0    intersection     True    8.55    NaN   \n",
       "\n",
       "                                                                  geometry  \\\n",
       "u        v          key                                                      \n",
       "29449863 3391701883 0    LINESTRING (-122.30407 47.64398, -122.30400 47...   \n",
       "\n",
       "                        access service width tunnel  \n",
       "u        v          key                              \n",
       "29449863 3391701883 0      NaN     NaN   NaN    NaN  "
      ]
     },
     "execution_count": 17,
     "metadata": {},
     "output_type": "execute_result"
    }
   ],
   "source": [
    "print(edges.describe())\n",
    "edges.head(1)"
   ]
  },
  {
   "cell_type": "markdown",
   "metadata": {},
   "source": [
    "### Load boba shop locations"
   ]
  },
  {
   "cell_type": "code",
   "execution_count": 9,
   "metadata": {},
   "outputs": [
    {
     "data": {
      "text/html": [
       "<div>\n",
       "<style scoped>\n",
       "    .dataframe tbody tr th:only-of-type {\n",
       "        vertical-align: middle;\n",
       "    }\n",
       "\n",
       "    .dataframe tbody tr th {\n",
       "        vertical-align: top;\n",
       "    }\n",
       "\n",
       "    .dataframe thead th {\n",
       "        text-align: right;\n",
       "    }\n",
       "</style>\n",
       "<table border=\"1\" class=\"dataframe\">\n",
       "  <thead>\n",
       "    <tr style=\"text-align: right;\">\n",
       "      <th></th>\n",
       "      <th>id</th>\n",
       "      <th>location</th>\n",
       "      <th>geometry</th>\n",
       "    </tr>\n",
       "  </thead>\n",
       "  <tbody>\n",
       "    <tr>\n",
       "      <th>0</th>\n",
       "      <td>ozuMi1zz9jJkkikPLqNNSA</td>\n",
       "      <td>{'address1': '600 5th Ave S', 'address2': 'Ste...</td>\n",
       "      <td>POINT (-122.32745 47.59728)</td>\n",
       "    </tr>\n",
       "    <tr>\n",
       "      <th>1</th>\n",
       "      <td>M4BjcVhOEjVgeF8EeSjZPQ</td>\n",
       "      <td>{'address1': '519 6th Ave S', 'address2': '', ...</td>\n",
       "      <td>POINT (-122.32654 47.59772)</td>\n",
       "    </tr>\n",
       "    <tr>\n",
       "      <th>2</th>\n",
       "      <td>rFC0LUPyhgyP7UC9ehkrHw</td>\n",
       "      <td>{'address1': '618 S Weller St', 'address2': ''...</td>\n",
       "      <td>POINT (-122.32552 47.59763)</td>\n",
       "    </tr>\n",
       "    <tr>\n",
       "      <th>3</th>\n",
       "      <td>I4pK6zZ4QwpmwVSTcDhH7A</td>\n",
       "      <td>{'address1': '619 S King St', 'address2': None...</td>\n",
       "      <td>POINT (-122.32549 47.59825)</td>\n",
       "    </tr>\n",
       "    <tr>\n",
       "      <th>4</th>\n",
       "      <td>_L8WhDX0gwh1oMfpI7jdog</td>\n",
       "      <td>{'address1': '679 S King St', 'address2': '', ...</td>\n",
       "      <td>POINT (-122.32395 47.59824)</td>\n",
       "    </tr>\n",
       "  </tbody>\n",
       "</table>\n",
       "</div>"
      ],
      "text/plain": [
       "                       id                                           location  \\\n",
       "0  ozuMi1zz9jJkkikPLqNNSA  {'address1': '600 5th Ave S', 'address2': 'Ste...   \n",
       "1  M4BjcVhOEjVgeF8EeSjZPQ  {'address1': '519 6th Ave S', 'address2': '', ...   \n",
       "2  rFC0LUPyhgyP7UC9ehkrHw  {'address1': '618 S Weller St', 'address2': ''...   \n",
       "3  I4pK6zZ4QwpmwVSTcDhH7A  {'address1': '619 S King St', 'address2': None...   \n",
       "4  _L8WhDX0gwh1oMfpI7jdog  {'address1': '679 S King St', 'address2': '', ...   \n",
       "\n",
       "                      geometry  \n",
       "0  POINT (-122.32745 47.59728)  \n",
       "1  POINT (-122.32654 47.59772)  \n",
       "2  POINT (-122.32552 47.59763)  \n",
       "3  POINT (-122.32549 47.59825)  \n",
       "4  POINT (-122.32395 47.59824)  "
      ]
     },
     "execution_count": 9,
     "metadata": {},
     "output_type": "execute_result"
    }
   ],
   "source": [
    "# Hack from https://stackoverflow.com/questions/71907567/valueerror-geodataframe-does-not-support-multiple-columns-using-the-geometry-co\n",
    "boba_gdf = gpd.read_file(f\"./data/{CITY_NAME.lower()}_boba_shops.csv\",\n",
    "                         GEOM_POSSIBLE_NAMES=\"geometry\", \n",
    "                         KEEP_GEOM_COLUMNS=\"NO\")\n",
    "boba_gdf = boba_gdf[[\"id\", \"location\", \"geometry\"]]\n",
    "boba_gdf.head()"
   ]
  }
 ],
 "metadata": {
  "kernelspec": {
   "display_name": "ox",
   "language": "python",
   "name": "python3"
  },
  "language_info": {
   "codemirror_mode": {
    "name": "ipython",
    "version": 3
   },
   "file_extension": ".py",
   "mimetype": "text/x-python",
   "name": "python",
   "nbconvert_exporter": "python",
   "pygments_lexer": "ipython3",
   "version": "3.11.4"
  },
  "orig_nbformat": 4
 },
 "nbformat": 4,
 "nbformat_minor": 2
}
