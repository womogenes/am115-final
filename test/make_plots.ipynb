{
 "cells": [
  {
   "cell_type": "code",
   "execution_count": 1,
   "metadata": {},
   "outputs": [],
   "source": [
    "import os\n",
    "os.chdir(\"..\")"
   ]
  },
  {
   "cell_type": "code",
   "execution_count": 2,
   "metadata": {},
   "outputs": [],
   "source": [
    "import numpy as np\n",
    "import pickle\n",
    "import json\n",
    "import time\n",
    "import random\n",
    "\n",
    "import osmnx as ox\n",
    "\n",
    "from tqdm import tqdm\n",
    "import matplotlib.pyplot as plt\n",
    "from matplotlib import colormaps as cmaps\n",
    "from matplotlib import cm\n",
    "\n",
    "from data import get_data\n",
    "from random_walks import get_end_nodes"
   ]
  },
  {
   "cell_type": "code",
   "execution_count": 3,
   "metadata": {},
   "outputs": [],
   "source": [
    "with open(\"./places.json\") as fin:\n",
    "    places = json.load(fin)"
   ]
  },
  {
   "cell_type": "markdown",
   "metadata": {},
   "source": [
    "## Objectives\n",
    "\n",
    "Generate SVG plots of:\n",
    "1. Every place and boba shops within them.\n",
    "2. 10 random walks within each place."
   ]
  },
  {
   "cell_type": "code",
   "execution_count": 4,
   "metadata": {},
   "outputs": [],
   "source": [
    "def plot_expected_time(slug, data, cmap=\"jet\"):\n",
    "    \"\"\"\n",
    "    data is G, adj, boba_gdf.\n",
    "\n",
    "    Returns fig, ax of the plot.\n",
    "    Saves the plot to svg?\n",
    "    \"\"\"\n",
    "    G, adj, boba_gdf = data\n",
    "    with open(f\"./output/avg_time/{slug}.pkl\", \"rb\") as fin:\n",
    "        E_time = pickle.load(fin)[(60, 5)]\n",
    "    \n",
    "    node2idx = {node: idx for idx, node in enumerate(sorted(G.nodes()))}\n",
    "\n",
    "    print(f\"  Calculating colors...\")\n",
    "    times = np.array([E_time[node2idx[node]] for node in G.nodes()]) / 60\n",
    "    q1 = 0 #np.quantile(times, 0.1)\n",
    "    q3 = 60 #np.quantile(times, 0.9)\n",
    "    node_colors = cmaps[cmap]((times - q1) / (q3 - q1))\n",
    "    \n",
    "    print(f\"  Generating plot...\")\n",
    "    fig, ax = ox.plot_graph(\n",
    "        G, figsize=(8, 8),\n",
    "        bgcolor=\"#fff\",\n",
    "        node_size=5, edge_linewidth=0.5,\n",
    "        node_color=node_colors, edge_color=\"#444\",\n",
    "        show=False, close=True\n",
    "    )\n",
    "    \n",
    "    # Make the colorbar\n",
    "    norm = plt.Normalize(vmin=q1, vmax=q3)\n",
    "    cb = fig.colorbar(\n",
    "        cm.ScalarMappable(norm=norm, cmap=cmap),\n",
    "        ax=ax, orientation=\"vertical\",\n",
    "        fraction=0.04, pad=0.04\n",
    "    )\n",
    "    cb.set_label(\"Expected time to reach boba by random walk (hours)\")\n",
    "\n",
    "    return fig, ax"
   ]
  },
  {
   "cell_type": "code",
   "execution_count": 11,
   "metadata": {},
   "outputs": [
    {
     "name": "stdout",
     "output_type": "stream",
     "text": [
      "Generating plots for Harvard...\n",
      "  Calculating colors...\n",
      "  Generating plot...\n",
      "  Done in 7.359 sec.\n",
      "Generating plots for UW Seattle...\n",
      "  Calculating colors...\n",
      "  Generating plot...\n",
      "  Done in 8.320 sec.\n",
      "Generating plots for Stanford...\n",
      "  Calculating colors...\n",
      "  Generating plot...\n",
      "  Done in 0.940 sec.\n",
      "Generating plots for National Taiwan University...\n",
      "  Calculating colors...\n",
      "  Generating plot...\n",
      "  Done in 1.394 sec.\n"
     ]
    }
   ],
   "source": [
    "slugs = [\"harvard\", \"uw_seattle\", \"national_taiwan_university\", \"stanford\"]\n",
    "\n",
    "for placename, coords, slug in places:\n",
    "    if slug not in slugs: continue\n",
    "\n",
    "    start_time = time.time()\n",
    "    print(f\"Generating plots for {placename}...\")\n",
    "    \n",
    "    data = get_data(slug)\n",
    "    fig, ax = plot_expected_time(slug, data)\n",
    "    print(f\"  Done in {(time.time() - start_time):.3f} sec.\")\n",
    "\n",
    "    os.makedirs(\"./output/figures\", exist_ok=True)\n",
    "    fig.savefig(f\"./output/figures/exp_time_{slug}.png\", bbox_inches=\"tight\")"
   ]
  },
  {
   "cell_type": "markdown",
   "metadata": {},
   "source": [
    "## Plot boba locations and sample random walks"
   ]
  },
  {
   "cell_type": "code",
   "execution_count": 8,
   "metadata": {},
   "outputs": [],
   "source": [
    "from pprint import pprint\n",
    "\n",
    "import random_walks\n",
    "random_walk = random_walks.random_walk"
   ]
  },
  {
   "cell_type": "code",
   "execution_count": 19,
   "metadata": {},
   "outputs": [],
   "source": [
    "def plot_boba_walks(data):\n",
    "    \"\"\"\n",
    "    Plot the points in a city, and a few routes.\n",
    "    \"\"\"\n",
    "    G, adj, boba_gdf = data\n",
    "    end_nodes = get_end_nodes(G, boba_gdf)\n",
    "\n",
    "    plot_scale = 8\n",
    "    fig, ax = ox.plot_graph(\n",
    "        G, bgcolor=\"#fff\",\n",
    "        # dpi=2000,\n",
    "        # figsize=(8, 8),\n",
    "        figsize=(8 * plot_scale,) * 2,\n",
    "        node_size=1 * plot_scale**2, edge_linewidth=0,\n",
    "        node_color=\"#80808080\",\n",
    "        show=False, close=True\n",
    "    )\n",
    "    for _, row in boba_gdf.iterrows():\n",
    "        x, y = row.geometry.x, row.geometry.y\n",
    "        ax.plot(x, y, \"b*\", markersize=8 * plot_scale, alpha=0.5)\n",
    "\n",
    "    starts = random.choices(list(G.nodes()), k=3)\n",
    "    for start in starts:\n",
    "        route, total_time, flag = random_walk(\n",
    "            adj, end_nodes, start,\n",
    "            angle_cutoff=np.pi/3, forward_weight=5,\n",
    "            timeout=np.inf\n",
    "        )\n",
    "        points = np.array([(G.nodes[p][\"x\"], G.nodes[p][\"y\"]) for p in route])\n",
    "        ax.plot(*points.T, lw=2 * plot_scale, alpha=0.5)\n",
    "    \n",
    "    return fig, ax"
   ]
  },
  {
   "cell_type": "code",
   "execution_count": 20,
   "metadata": {},
   "outputs": [
    {
     "name": "stdout",
     "output_type": "stream",
     "text": [
      "Generating random walks for slug harvard...\n",
      "Generating random walks for slug uw_seattle...\n",
      "Generating random walks for slug national_taiwan_university...\n",
      "Generating random walks for slug stanford...\n"
     ]
    }
   ],
   "source": [
    "for slug in [\"harvard\", \"uw_seattle\", \"national_taiwan_university\", \"stanford\"]:\n",
    "    print(f\"Generating random walks for slug {slug}...\")\n",
    "    data = get_data(slug)\n",
    "    fig, ax = plot_boba_walks(data)\n",
    "    fig.savefig(f\"./output/figures/sample_walks_{slug}.png\", bbox_inches=\"tight\")"
   ]
  }
 ],
 "metadata": {
  "kernelspec": {
   "display_name": "ox",
   "language": "python",
   "name": "python3"
  },
  "language_info": {
   "codemirror_mode": {
    "name": "ipython",
    "version": 3
   },
   "file_extension": ".py",
   "mimetype": "text/x-python",
   "name": "python",
   "nbconvert_exporter": "python",
   "pygments_lexer": "ipython3",
   "version": "3.11.4"
  },
  "orig_nbformat": 4
 },
 "nbformat": 4,
 "nbformat_minor": 2
}
