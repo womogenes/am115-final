{
 "cells": [
  {
   "cell_type": "code",
   "execution_count": 13,
   "metadata": {},
   "outputs": [],
   "source": [
    "import osmnx as ox\n",
    "import json\n",
    "import pickle as pkl\n",
    "import math\n",
    "import numpy as np\n",
    "import matplotlib.pyplot as plt"
   ]
  },
  {
   "cell_type": "code",
   "execution_count": 15,
   "metadata": {},
   "outputs": [
    {
     "name": "stdout",
     "output_type": "stream",
     "text": [
      "['Harvard Square', 'harvard_square']\n"
     ]
    }
   ],
   "source": [
    "with open(\"./places.json\") as fin:\n",
    "    places = json.load(fin)\n",
    "\n",
    "print(places[0])\n",
    "with open(f\"./data/networks/{places[0][1]}.pkl\", \"rb\") as fin:\n",
    "    G = pkl.load(fin)\n",
    "    G = ox.project_graph(G)"
   ]
  },
  {
   "cell_type": "code",
   "execution_count": null,
   "metadata": {},
   "outputs": [
    {
     "name": "stdout",
     "output_type": "stream",
     "text": [
      "Graph has 27222 nodes, 78331 edges\n"
     ]
    }
   ],
   "source": [
    "nodes, edges = ox.graph_to_gdfs(G)\n",
    "print(f\"Graph has {len(nodes)} nodes, {len(edges)} edges\")"
   ]
  },
  {
   "cell_type": "code",
   "execution_count": 16,
   "metadata": {},
   "outputs": [
    {
     "data": {
      "text/html": [
       "<div>\n",
       "<style scoped>\n",
       "    .dataframe tbody tr th:only-of-type {\n",
       "        vertical-align: middle;\n",
       "    }\n",
       "\n",
       "    .dataframe tbody tr th {\n",
       "        vertical-align: top;\n",
       "    }\n",
       "\n",
       "    .dataframe thead th {\n",
       "        text-align: right;\n",
       "    }\n",
       "</style>\n",
       "<table border=\"1\" class=\"dataframe\">\n",
       "  <thead>\n",
       "    <tr style=\"text-align: right;\">\n",
       "      <th></th>\n",
       "      <th></th>\n",
       "      <th></th>\n",
       "      <th>osmid</th>\n",
       "      <th>highway</th>\n",
       "      <th>oneway</th>\n",
       "      <th>reversed</th>\n",
       "      <th>length</th>\n",
       "      <th>geometry</th>\n",
       "      <th>lanes</th>\n",
       "      <th>name</th>\n",
       "      <th>width</th>\n",
       "      <th>bridge</th>\n",
       "      <th>access</th>\n",
       "      <th>tunnel</th>\n",
       "      <th>maxspeed</th>\n",
       "      <th>service</th>\n",
       "      <th>area</th>\n",
       "      <th>landuse</th>\n",
       "    </tr>\n",
       "    <tr>\n",
       "      <th>u</th>\n",
       "      <th>v</th>\n",
       "      <th>key</th>\n",
       "      <th></th>\n",
       "      <th></th>\n",
       "      <th></th>\n",
       "      <th></th>\n",
       "      <th></th>\n",
       "      <th></th>\n",
       "      <th></th>\n",
       "      <th></th>\n",
       "      <th></th>\n",
       "      <th></th>\n",
       "      <th></th>\n",
       "      <th></th>\n",
       "      <th></th>\n",
       "      <th></th>\n",
       "      <th></th>\n",
       "      <th></th>\n",
       "    </tr>\n",
       "  </thead>\n",
       "  <tbody>\n",
       "    <tr>\n",
       "      <th>61172479</th>\n",
       "      <th>7932011607</th>\n",
       "      <th>0</th>\n",
       "      <td>99973036</td>\n",
       "      <td>footway</td>\n",
       "      <td>False</td>\n",
       "      <td>True</td>\n",
       "      <td>3.172</td>\n",
       "      <td>LINESTRING (325545.639 4696806.298, 325544.079...</td>\n",
       "      <td>NaN</td>\n",
       "      <td>NaN</td>\n",
       "      <td>NaN</td>\n",
       "      <td>NaN</td>\n",
       "      <td>NaN</td>\n",
       "      <td>NaN</td>\n",
       "      <td>NaN</td>\n",
       "      <td>NaN</td>\n",
       "      <td>NaN</td>\n",
       "      <td>NaN</td>\n",
       "    </tr>\n",
       "  </tbody>\n",
       "</table>\n",
       "</div>"
      ],
      "text/plain": [
       "                            osmid  highway  oneway reversed  length  \\\n",
       "u        v          key                                               \n",
       "61172479 7932011607 0    99973036  footway   False     True   3.172   \n",
       "\n",
       "                                                                  geometry  \\\n",
       "u        v          key                                                      \n",
       "61172479 7932011607 0    LINESTRING (325545.639 4696806.298, 325544.079...   \n",
       "\n",
       "                        lanes name width bridge access tunnel maxspeed  \\\n",
       "u        v          key                                                  \n",
       "61172479 7932011607 0     NaN  NaN   NaN    NaN    NaN    NaN      NaN   \n",
       "\n",
       "                        service area landuse  \n",
       "u        v          key                       \n",
       "61172479 7932011607 0       NaN  NaN     NaN  "
      ]
     },
     "execution_count": 16,
     "metadata": {},
     "output_type": "execute_result"
    }
   ],
   "source": [
    "edges.head(1)"
   ]
  },
  {
   "cell_type": "code",
   "execution_count": 5,
   "metadata": {},
   "outputs": [
    {
     "name": "stdout",
     "output_type": "stream",
     "text": [
      "key\n",
      "0    LINESTRING (325545.639 4696806.298, 325544.079...\n",
      "Name: geometry, dtype: geometry\n",
      "key\n",
      "0    LINESTRING (325544.079 4696803.537, 325545.639...\n",
      "Name: geometry, dtype: geometry\n",
      "\n",
      "y                                             4696806.29764\n",
      "x                                             325545.638569\n",
      "street_count                                              1\n",
      "lon                                              -71.119905\n",
      "lat                                               42.403963\n",
      "highway                                                 NaN\n",
      "ref                                                     NaN\n",
      "geometry        POINT (325545.6385690479 4696806.297640038)\n",
      "Name: 61172479, dtype: object\n",
      "y                                            4696803.536522\n",
      "x                                             325544.079142\n",
      "street_count                                              4\n",
      "lon                                              -71.119923\n",
      "lat                                               42.403938\n",
      "highway                                                 NaN\n",
      "ref                                                     NaN\n",
      "geometry        POINT (325544.0791422947 4696803.536521664)\n",
      "Name: 7932011607, dtype: object\n"
     ]
    }
   ],
   "source": [
    "u, v = 61172479, 7932011607\n",
    "print(edges.loc[u].loc[v].geometry)\n",
    "print(edges.loc[v].loc[u].geometry)\n",
    "print()\n",
    "\n",
    "print(nodes.loc[u])\n",
    "print(nodes.loc[v]) "
   ]
  },
  {
   "cell_type": "code",
   "execution_count": 12,
   "metadata": {},
   "outputs": [
    {
     "name": "stderr",
     "output_type": "stream",
     "text": [
      "/tmp/ipykernel_10156/2781173476.py:1: PerformanceWarning: indexing past lexsort depth may impact performance.\n",
      "  edges.loc[u,v]\n"
     ]
    },
    {
     "data": {
      "text/html": [
       "<div>\n",
       "<style scoped>\n",
       "    .dataframe tbody tr th:only-of-type {\n",
       "        vertical-align: middle;\n",
       "    }\n",
       "\n",
       "    .dataframe tbody tr th {\n",
       "        vertical-align: top;\n",
       "    }\n",
       "\n",
       "    .dataframe thead th {\n",
       "        text-align: right;\n",
       "    }\n",
       "</style>\n",
       "<table border=\"1\" class=\"dataframe\">\n",
       "  <thead>\n",
       "    <tr style=\"text-align: right;\">\n",
       "      <th></th>\n",
       "      <th>osmid</th>\n",
       "      <th>highway</th>\n",
       "      <th>oneway</th>\n",
       "      <th>reversed</th>\n",
       "      <th>length</th>\n",
       "      <th>geometry</th>\n",
       "      <th>lanes</th>\n",
       "      <th>name</th>\n",
       "      <th>width</th>\n",
       "      <th>bridge</th>\n",
       "      <th>access</th>\n",
       "      <th>tunnel</th>\n",
       "      <th>maxspeed</th>\n",
       "      <th>service</th>\n",
       "      <th>area</th>\n",
       "      <th>landuse</th>\n",
       "    </tr>\n",
       "    <tr>\n",
       "      <th>key</th>\n",
       "      <th></th>\n",
       "      <th></th>\n",
       "      <th></th>\n",
       "      <th></th>\n",
       "      <th></th>\n",
       "      <th></th>\n",
       "      <th></th>\n",
       "      <th></th>\n",
       "      <th></th>\n",
       "      <th></th>\n",
       "      <th></th>\n",
       "      <th></th>\n",
       "      <th></th>\n",
       "      <th></th>\n",
       "      <th></th>\n",
       "      <th></th>\n",
       "    </tr>\n",
       "  </thead>\n",
       "  <tbody>\n",
       "    <tr>\n",
       "      <th>0</th>\n",
       "      <td>99973036</td>\n",
       "      <td>footway</td>\n",
       "      <td>False</td>\n",
       "      <td>True</td>\n",
       "      <td>3.172</td>\n",
       "      <td>LINESTRING (325545.639 4696806.298, 325544.079...</td>\n",
       "      <td>NaN</td>\n",
       "      <td>NaN</td>\n",
       "      <td>NaN</td>\n",
       "      <td>NaN</td>\n",
       "      <td>NaN</td>\n",
       "      <td>NaN</td>\n",
       "      <td>NaN</td>\n",
       "      <td>NaN</td>\n",
       "      <td>NaN</td>\n",
       "      <td>NaN</td>\n",
       "    </tr>\n",
       "  </tbody>\n",
       "</table>\n",
       "</div>"
      ],
      "text/plain": [
       "        osmid  highway  oneway reversed  length  \\\n",
       "key                                               \n",
       "0    99973036  footway   False     True   3.172   \n",
       "\n",
       "                                              geometry lanes name width  \\\n",
       "key                                                                       \n",
       "0    LINESTRING (325545.639 4696806.298, 325544.079...   NaN  NaN   NaN   \n",
       "\n",
       "    bridge access tunnel maxspeed service area landuse  \n",
       "key                                                     \n",
       "0      NaN    NaN    NaN      NaN     NaN  NaN     NaN  "
      ]
     },
     "execution_count": 12,
     "metadata": {},
     "output_type": "execute_result"
    }
   ],
   "source": [
    "edges.loc[u,v]"
   ]
  },
  {
   "cell_type": "code",
   "execution_count": 6,
   "metadata": {},
   "outputs": [],
   "source": [
    "def angle(linestring):\n",
    "    \"\"\"Get angle between two end points, in radians\"\"\"\n",
    "    a, b = linestring.coords[:2]\n",
    "    if np.isclose(a[0], b[0]): return np.pi / 2\n",
    "    return math.atan2(b[1] - a[1], b[0] - a[0])"
   ]
  },
  {
   "cell_type": "code",
   "execution_count": 7,
   "metadata": {},
   "outputs": [
    {
     "data": {
      "text/plain": [
       "-1.320561384655719"
      ]
     },
     "execution_count": 7,
     "metadata": {},
     "output_type": "execute_result"
    }
   ],
   "source": [
    "angle(edges.iloc[20].geometry)"
   ]
  },
  {
   "cell_type": "code",
   "execution_count": 8,
   "metadata": {},
   "outputs": [
    {
     "name": "stdout",
     "output_type": "stream",
     "text": [
      "(325901.5010064437, 4693812.436289099)\n"
     ]
    },
    {
     "data": {
      "text/plain": [
       "[<matplotlib.lines.Line2D at 0x7f0bbbd4fd50>]"
      ]
     },
     "execution_count": 8,
     "metadata": {},
     "output_type": "execute_result"
    },
    {
     "data": {
      "image/png": "[encoded data removed]",
      "text/plain": [
       "<Figure size 640x480 with 1 Axes>"
      ]
     },
     "metadata": {},
     "output_type": "display_data"
    }
   ],
   "source": [
    "edges.iloc[20:21].plot()\n",
    "print(edges.iloc[20].geometry.coords[0])\n",
    "plt.plot(*edges.iloc[20].geometry.coords[0], \"o\")"
   ]
  },
  {
   "cell_type": "code",
   "execution_count": 10,
   "metadata": {},
   "outputs": [
    {
     "data": {
      "text/plain": [
       "{0: {'osmid': 99973036,\n",
       "  'highway': 'footway',\n",
       "  'oneway': False,\n",
       "  'reversed': True,\n",
       "  'length': 3.172}}"
      ]
     },
     "execution_count": 10,
     "metadata": {},
     "output_type": "execute_result"
    }
   ],
   "source": [
    "G.get_edge_data(u, v)"
   ]
  }
 ],
 "metadata": {
  "kernelspec": {
   "display_name": "ox",
   "language": "python",
   "name": "python3"
  },
  "language_info": {
   "codemirror_mode": {
    "name": "ipython",
    "version": 3
   },
   "file_extension": ".py",
   "mimetype": "text/x-python",
   "name": "python",
   "nbconvert_exporter": "python",
   "pygments_lexer": "ipython3",
   "version": "3.11.4"
  },
  "orig_nbformat": 4
 },
 "nbformat": 4,
 "nbformat_minor": 2
}
