{
 "cells": [
  {
   "cell_type": "code",
   "execution_count": 139,
   "metadata": {},
   "outputs": [],
   "source": [
    "import os\n",
    "import math\n",
    "import numpy as np\n",
    "import json\n",
    "import pickle\n",
    "import random\n",
    "from collections import defaultdict\n",
    "\n",
    "import osmnx as ox\n",
    "\n",
    "from tqdm import tqdm\n",
    "import matplotlib.pyplot as plt\n",
    "\n",
    "from data import get_data\n",
    "from random_walks import get_end_nodes, angle_diff\n",
    "from utils import float2color"
   ]
  },
  {
   "cell_type": "code",
   "execution_count": 151,
   "metadata": {},
   "outputs": [],
   "source": [
    "G, adj, boba_gdf = get_data(\"stanford\")"
   ]
  },
  {
   "cell_type": "code",
   "execution_count": 146,
   "metadata": {},
   "outputs": [],
   "source": [
    "for node in adj:\n",
    "    if len(adj[node]) == 0:\n",
    "        print(node)\n",
    "        break"
   ]
  },
  {
   "cell_type": "code",
   "execution_count": 155,
   "metadata": {},
   "outputs": [],
   "source": [
    "u = 6615225538\n",
    "v = 9960421963"
   ]
  },
  {
   "cell_type": "code",
   "execution_count": 158,
   "metadata": {},
   "outputs": [
    {
     "name": "stdout",
     "output_type": "stream",
     "text": [
      "False\n",
      "[(6615225538, 75.42, 1.571, 1.571), (9960421961, 7.902, -0.601, -0.601), (9960421962, 13.2, 1.571, 2.563)]\n"
     ]
    }
   ],
   "source": [
    "print(u in adj)\n",
    "print(adj[v])"
   ]
  },
  {
   "cell_type": "code",
   "execution_count": 163,
   "metadata": {},
   "outputs": [
    {
     "data": {
      "text/plain": [
       "0"
      ]
     },
     "execution_count": 163,
     "metadata": {},
     "output_type": "execute_result"
    }
   ],
   "source": [
    "G.add_edge(u, v, 0)"
   ]
  },
  {
   "cell_type": "code",
   "execution_count": 164,
   "metadata": {},
   "outputs": [],
   "source": [
    "nodes, edges = ox.graph_to_gdfs(G)"
   ]
  },
  {
   "cell_type": "code",
   "execution_count": 165,
   "metadata": {},
   "outputs": [
    {
     "data": {
      "text/html": [
       "<div>\n",
       "<style scoped>\n",
       "    .dataframe tbody tr th:only-of-type {\n",
       "        vertical-align: middle;\n",
       "    }\n",
       "\n",
       "    .dataframe tbody tr th {\n",
       "        vertical-align: top;\n",
       "    }\n",
       "\n",
       "    .dataframe thead th {\n",
       "        text-align: right;\n",
       "    }\n",
       "</style>\n",
       "<table border=\"1\" class=\"dataframe\">\n",
       "  <thead>\n",
       "    <tr style=\"text-align: right;\">\n",
       "      <th></th>\n",
       "      <th></th>\n",
       "      <th>osmid</th>\n",
       "      <th>highway</th>\n",
       "      <th>oneway</th>\n",
       "      <th>reversed</th>\n",
       "      <th>length</th>\n",
       "      <th>geometry</th>\n",
       "      <th>access</th>\n",
       "      <th>width</th>\n",
       "      <th>name</th>\n",
       "      <th>tunnel</th>\n",
       "      <th>maxspeed</th>\n",
       "      <th>bridge</th>\n",
       "    </tr>\n",
       "    <tr>\n",
       "      <th>v</th>\n",
       "      <th>key</th>\n",
       "      <th></th>\n",
       "      <th></th>\n",
       "      <th></th>\n",
       "      <th></th>\n",
       "      <th></th>\n",
       "      <th></th>\n",
       "      <th></th>\n",
       "      <th></th>\n",
       "      <th></th>\n",
       "      <th></th>\n",
       "      <th></th>\n",
       "      <th></th>\n",
       "    </tr>\n",
       "  </thead>\n",
       "  <tbody>\n",
       "    <tr>\n",
       "      <th>9960421961</th>\n",
       "      <th>0</th>\n",
       "      <td>1087091302</td>\n",
       "      <td>footway</td>\n",
       "      <td>False</td>\n",
       "      <td>True</td>\n",
       "      <td>7.902</td>\n",
       "      <td>LINESTRING (-122.18401 37.45226, -122.18393 37...</td>\n",
       "      <td>NaN</td>\n",
       "      <td>NaN</td>\n",
       "      <td>NaN</td>\n",
       "      <td>NaN</td>\n",
       "      <td>NaN</td>\n",
       "      <td>NaN</td>\n",
       "    </tr>\n",
       "    <tr>\n",
       "      <th>6615225538</th>\n",
       "      <th>0</th>\n",
       "      <td>704407085</td>\n",
       "      <td>footway</td>\n",
       "      <td>True</td>\n",
       "      <td>False</td>\n",
       "      <td>75.420</td>\n",
       "      <td>LINESTRING (-122.18401 37.45226, -122.18400 37...</td>\n",
       "      <td>NaN</td>\n",
       "      <td>NaN</td>\n",
       "      <td>Santa Cruz Avenue</td>\n",
       "      <td>NaN</td>\n",
       "      <td>25 mph</td>\n",
       "      <td>NaN</td>\n",
       "    </tr>\n",
       "    <tr>\n",
       "      <th>9960421962</th>\n",
       "      <th>0</th>\n",
       "      <td>1087091302</td>\n",
       "      <td>footway</td>\n",
       "      <td>False</td>\n",
       "      <td>False</td>\n",
       "      <td>13.200</td>\n",
       "      <td>LINESTRING (-122.18401 37.45226, -122.18406 37...</td>\n",
       "      <td>NaN</td>\n",
       "      <td>NaN</td>\n",
       "      <td>NaN</td>\n",
       "      <td>NaN</td>\n",
       "      <td>NaN</td>\n",
       "      <td>NaN</td>\n",
       "    </tr>\n",
       "  </tbody>\n",
       "</table>\n",
       "</div>"
      ],
      "text/plain": [
       "                     osmid  highway oneway reversed  length  \\\n",
       "v          key                                                \n",
       "9960421961 0    1087091302  footway  False     True   7.902   \n",
       "6615225538 0     704407085  footway   True    False  75.420   \n",
       "9960421962 0    1087091302  footway  False    False  13.200   \n",
       "\n",
       "                                                         geometry access  \\\n",
       "v          key                                                             \n",
       "9960421961 0    LINESTRING (-122.18401 37.45226, -122.18393 37...    NaN   \n",
       "6615225538 0    LINESTRING (-122.18401 37.45226, -122.18400 37...    NaN   \n",
       "9960421962 0    LINESTRING (-122.18401 37.45226, -122.18406 37...    NaN   \n",
       "\n",
       "               width               name tunnel maxspeed bridge  \n",
       "v          key                                                  \n",
       "9960421961 0     NaN                NaN    NaN      NaN    NaN  \n",
       "6615225538 0     NaN  Santa Cruz Avenue    NaN   25 mph    NaN  \n",
       "9960421962 0     NaN                NaN    NaN      NaN    NaN  "
      ]
     },
     "execution_count": 165,
     "metadata": {},
     "output_type": "execute_result"
    }
   ],
   "source": [
    "edges.loc[v]"
   ]
  },
  {
   "cell_type": "code",
   "execution_count": 167,
   "metadata": {},
   "outputs": [
    {
     "name": "stdout",
     "output_type": "stream",
     "text": [
      "u=6615225538, v=9960421963\n"
     ]
    }
   ],
   "source": [
    "print(f\"u={u}, v={v}\")"
   ]
  },
  {
   "cell_type": "code",
   "execution_count": 166,
   "metadata": {},
   "outputs": [
    {
     "data": {
      "text/html": [
       "<div>\n",
       "<style scoped>\n",
       "    .dataframe tbody tr th:only-of-type {\n",
       "        vertical-align: middle;\n",
       "    }\n",
       "\n",
       "    .dataframe tbody tr th {\n",
       "        vertical-align: top;\n",
       "    }\n",
       "\n",
       "    .dataframe thead th {\n",
       "        text-align: right;\n",
       "    }\n",
       "</style>\n",
       "<table border=\"1\" class=\"dataframe\">\n",
       "  <thead>\n",
       "    <tr style=\"text-align: right;\">\n",
       "      <th></th>\n",
       "      <th></th>\n",
       "      <th>osmid</th>\n",
       "      <th>highway</th>\n",
       "      <th>oneway</th>\n",
       "      <th>reversed</th>\n",
       "      <th>length</th>\n",
       "      <th>geometry</th>\n",
       "      <th>access</th>\n",
       "      <th>width</th>\n",
       "      <th>name</th>\n",
       "      <th>tunnel</th>\n",
       "      <th>maxspeed</th>\n",
       "      <th>bridge</th>\n",
       "    </tr>\n",
       "    <tr>\n",
       "      <th>v</th>\n",
       "      <th>key</th>\n",
       "      <th></th>\n",
       "      <th></th>\n",
       "      <th></th>\n",
       "      <th></th>\n",
       "      <th></th>\n",
       "      <th></th>\n",
       "      <th></th>\n",
       "      <th></th>\n",
       "      <th></th>\n",
       "      <th></th>\n",
       "      <th></th>\n",
       "      <th></th>\n",
       "    </tr>\n",
       "  </thead>\n",
       "  <tbody>\n",
       "    <tr>\n",
       "      <th>9960421963</th>\n",
       "      <th>0</th>\n",
       "      <td>NaN</td>\n",
       "      <td>NaN</td>\n",
       "      <td>NaN</td>\n",
       "      <td>NaN</td>\n",
       "      <td>NaN</td>\n",
       "      <td>LINESTRING (-122.18354 37.45282, -122.18401 37...</td>\n",
       "      <td>NaN</td>\n",
       "      <td>NaN</td>\n",
       "      <td>NaN</td>\n",
       "      <td>NaN</td>\n",
       "      <td>NaN</td>\n",
       "      <td>NaN</td>\n",
       "    </tr>\n",
       "  </tbody>\n",
       "</table>\n",
       "</div>"
      ],
      "text/plain": [
       "               osmid highway oneway reversed  length  \\\n",
       "v          key                                         \n",
       "9960421963 0     NaN     NaN    NaN      NaN     NaN   \n",
       "\n",
       "                                                         geometry access  \\\n",
       "v          key                                                             \n",
       "9960421963 0    LINESTRING (-122.18354 37.45282, -122.18401 37...    NaN   \n",
       "\n",
       "               width name tunnel maxspeed bridge  \n",
       "v          key                                    \n",
       "9960421963 0     NaN  NaN    NaN      NaN    NaN  "
      ]
     },
     "execution_count": 166,
     "metadata": {},
     "output_type": "execute_result"
    }
   ],
   "source": [
    "edges.loc[u]"
   ]
  }
 ],
 "metadata": {
  "kernelspec": {
   "display_name": "ox",
   "language": "python",
   "name": "python3"
  },
  "language_info": {
   "codemirror_mode": {
    "name": "ipython",
    "version": 3
   },
   "file_extension": ".py",
   "mimetype": "text/x-python",
   "name": "python",
   "nbconvert_exporter": "python",
   "pygments_lexer": "ipython3",
   "version": "3.11.4"
  },
  "orig_nbformat": 4
 },
 "nbformat": 4,
 "nbformat_minor": 2
}
