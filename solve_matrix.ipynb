{
 "cells": [
  {
   "cell_type": "code",
   "execution_count": 35,
   "metadata": {},
   "outputs": [],
   "source": [
    "import os\n",
    "import math\n",
    "import numpy as np\n",
    "import json\n",
    "import pickle\n",
    "import random\n",
    "from collections import defaultdict\n",
    "\n",
    "import osmnx as ox\n",
    "\n",
    "from tqdm import tqdm\n",
    "import matplotlib.pyplot as plt\n",
    "\n",
    "from data import get_data\n",
    "from random_walks import get_end_nodes, angle_diff\n",
    "from utils import float2color"
   ]
  },
  {
   "cell_type": "code",
   "execution_count": 2,
   "metadata": {},
   "outputs": [
    {
     "name": "stdout",
     "output_type": "stream",
     "text": [
      "Graph has 966 nodes and 2400 edges.\n"
     ]
    }
   ],
   "source": []
  },
  {
   "cell_type": "markdown",
   "metadata": {},
   "source": [
    "Assign each state to a \"canonical index\" starting from zero."
   ]
  },
  {
   "cell_type": "code",
   "execution_count": 3,
   "metadata": {},
   "outputs": [],
   "source": [
    "def matrix_method(slug):\n",
    "    G, adj, boba_gdf = get_data(slug)\n",
    "    print(f\"Graph has {len(adj)} nodes and {len(G.edges())} edges.\")\n",
    "    end_nodes = get_end_nodes(G, boba_gdf)\n",
    "\n",
    "    incoming = defaultdict(list)\n",
    "    for node in adj:\n",
    "        for edge in adj[node]:\n",
    "            incoming[edge[0]].append(node)\n",
    "    for node in incoming:\n",
    "        incoming[node].sort()\n",
    "    \n",
    "    states = []\n",
    "    for node in sorted(adj.keys()):\n",
    "        states.extend([(node, prev) for prev in incoming[node]])\n",
    "    state2idx = {state: idx for idx, state in enumerate(states)}\n",
    "\n",
    "    print(f\"{len(states):,} states total.\")"
   ]
  },
  {
   "cell_type": "markdown",
   "metadata": {},
   "source": [
    "Construct this huge matrix!\n",
    "\n",
    "Basically, we want to solve for a vector $\\vec v$ that contains the expected number of steps till reaching a boba shop."
   ]
  },
  {
   "cell_type": "code",
   "execution_count": 111,
   "metadata": {},
   "outputs": [],
   "source": []
  },
  {
   "cell_type": "code",
   "execution_count": 112,
   "metadata": {},
   "outputs": [
    {
     "name": "stderr",
     "output_type": "stream",
     "text": [
      "100%|██████████| 2400/2400 [00:00<00:00, 7646.75it/s]\n"
     ]
    }
   ],
   "source": [
    "angle_cutoff = np.pi/6\n",
    "forward_favor = 8\n",
    "\n",
    "N = len(states)\n",
    "A = np.zeros((N, N + 1))\n",
    "\n",
    "for i, state in enumerate(tqdm(states)):\n",
    "    assert(i == state2idx[state])\n",
    "    node, prev = state\n",
    "\n",
    "    if node in end_nodes:\n",
    "        continue\n",
    "\n",
    "    # Weigh next routes\n",
    "    cur_angle = next(angle2 for nbr, _, _, angle2 in adj[node] if nbr == prev)\n",
    "\n",
    "    weights = []\n",
    "    travel_times = []\n",
    "    for nbr, length, angle1, angle2 in adj[node]:\n",
    "        if nbr == prev:\n",
    "            weight = 1e-9\n",
    "        elif abs(angle_diff(cur_angle, angle1)) < angle_cutoff:\n",
    "            weight = forward_favor\n",
    "        else:\n",
    "            weight = 1\n",
    "        weights.append(weight)\n",
    "        travel_times.append(length / 4 / 1000 * 60)\n",
    "    \n",
    "    # Normalize weights, calculate expected travel time\n",
    "    weights = np.array(weights) / np.sum(weights)\n",
    "    E_travel_time = weights @ np.array(travel_times)\n",
    "\n",
    "    # Record probability of going to (nbr, node) from (node, prev)\n",
    "    for j, edge in enumerate(adj[node]):\n",
    "        nbr = edge[0]\n",
    "        A[state2idx[(node, prev)],state2idx[(nbr, node)]] = weights[j]\n",
    "    \n",
    "    # Record expected travel time\n",
    "    A[state2idx[(node, prev)],-1] = E_travel_time\n",
    "    \n",
    "    assert np.isclose(weights.sum(), 1)"
   ]
  },
  {
   "cell_type": "code",
   "execution_count": 113,
   "metadata": {},
   "outputs": [
    {
     "data": {
      "text/plain": [
       "array([1.     , 0.58092])"
      ]
     },
     "execution_count": 113,
     "metadata": {},
     "output_type": "execute_result"
    }
   ],
   "source": [
    "A[0][np.where(A[0] > 0)]"
   ]
  },
  {
   "cell_type": "code",
   "execution_count": 115,
   "metadata": {},
   "outputs": [
    {
     "name": "stdout",
     "output_type": "stream",
     "text": [
      "1.0\n"
     ]
    }
   ],
   "source": [
    "rowsums = np.sum(A[:,:-1], axis=1)\n",
    "print(rowsums[0])"
   ]
  },
  {
   "cell_type": "code",
   "execution_count": 116,
   "metadata": {},
   "outputs": [
    {
     "data": {
      "image/png": "[encoded data removed]",
      "text/plain": [
       "<Figure size 640x480 with 1 Axes>"
      ]
     },
     "metadata": {},
     "output_type": "display_data"
    }
   ],
   "source": [
    "plt.imshow(np.log(A + 1e-9), cmap=\"Blues_r\")\n",
    "plt.axis(\"off\");"
   ]
  },
  {
   "cell_type": "code",
   "execution_count": 117,
   "metadata": {},
   "outputs": [],
   "source": [
    "A2 = np.vstack([A, np.zeros(N + 1)])\n",
    "b = np.zeros((N + 1, 1))\n",
    "b[-1] = -1\n",
    "\n",
    "v = np.linalg.inv(A2 - np.eye(N + 1)) @ b"
   ]
  },
  {
   "cell_type": "code",
   "execution_count": 125,
   "metadata": {},
   "outputs": [
    {
     "data": {
      "text/plain": [
       "2401"
      ]
     },
     "execution_count": 125,
     "metadata": {},
     "output_type": "execute_result"
    }
   ],
   "source": [
    "np.sum(np.isclose(A2 @ v, v))\n",
    "v.size"
   ]
  },
  {
   "cell_type": "code",
   "execution_count": 129,
   "metadata": {},
   "outputs": [
    {
     "data": {
      "image/png": "[encoded data removed]",
      "text/plain": [
       "<Figure size 640x480 with 1 Axes>"
      ]
     },
     "metadata": {},
     "output_type": "display_data"
    }
   ],
   "source": [
    "plt.xlabel(\"Exepcted time to reach boba shop by random walk (min)\")\n",
    "plt.ylabel(\"Number of intersections\")\n",
    "plt.title(\"Dartmouth\")\n",
    "plt.hist(v, bins=50);"
   ]
  },
  {
   "cell_type": "code",
   "execution_count": 130,
   "metadata": {},
   "outputs": [],
   "source": [
    "os.makedirs(\"./output/matrix_method\", exist_ok=True)\n",
    "with open(f\"./output/matrix_method/{slug}.pkl\", \"wb\") as fout:\n",
    "    pickle.dump({\n",
    "        \"expected_time\": v[:-1],\n",
    "        \"states\": states\n",
    "    }, fout)"
   ]
  }
 ],
 "metadata": {
  "kernelspec": {
   "display_name": "ox",
   "language": "python",
   "name": "python3"
  },
  "language_info": {
   "codemirror_mode": {
    "name": "ipython",
    "version": 3
   },
   "file_extension": ".py",
   "mimetype": "text/x-python",
   "name": "python",
   "nbconvert_exporter": "python",
   "pygments_lexer": "ipython3",
   "version": "3.11.4"
  },
  "orig_nbformat": 4
 },
 "nbformat": 4,
 "nbformat_minor": 2
}
